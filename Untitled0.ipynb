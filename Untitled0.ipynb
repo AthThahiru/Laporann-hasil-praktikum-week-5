{
  "cells": [
    {
      "cell_type": "markdown",
      "metadata": {
        "id": "view-in-github",
        "colab_type": "text"
      },
      "source": [
        "<a href=\"https://colab.research.google.com/github/AthThahiru/Laporann-hasil-praktikum-week-5/blob/main/Untitled0.ipynb\" target=\"_parent\"><img src=\"https://colab.research.google.com/assets/colab-badge.svg\" alt=\"Open In Colab\"/></a>"
      ]
    },
    {
      "cell_type": "code",
      "execution_count": null,
      "metadata": {
        "id": "56ZsSTh9y7wZ"
      },
      "outputs": [],
      "source": []
    },
    {
      "cell_type": "markdown",
      "metadata": {
        "id": "uRDescNz2nJ_"
      },
      "source": [
        "# Quizz"
      ]
    },
    {
      "cell_type": "code",
      "execution_count": null,
      "metadata": {
        "colab": {
          "base_uri": "https://localhost:8080/"
        },
        "id": "UGZE4n4b2rWF",
        "outputId": "461ca106-799d-4c10-d7fe-26f461b3da97"
      },
      "outputs": [
        {
          "name": "stdout",
          "output_type": "stream",
          "text": [
            "Username :wert\n",
            "Password :asdd\n",
            "\n",
            "\n",
            "User tidak ditemukan\n",
            "Silahkan Coba Lagi\n"
          ]
        }
      ],
      "source": [
        "# Membuat program login\n",
        "\n",
        "username     = str(input(\"Username :\"))\n",
        "password     = str(input(\"Password :\"))\n",
        "\n",
        "print        (\"\\n\")\n",
        "\n",
        "if username  == \"admin\"       :\n",
        "   if   password == \"admin\"          :\n",
        "        print     (\"Login Berhasil\")\n",
        "        print     (\"Selamat Datang Admin :v\")\n",
        "   elif password == \"12345\"          :\n",
        "        print     (\"Login Berhasil\")\n",
        "        print     (\"Password Anda terlalu lemah. Silahkan ganti kata sandi Anda.\")\n",
        "   else                              :\n",
        "        print     (\"Password Salah\")\n",
        "        print     (\"Silahkan Coba Lagi\")\n",
        "\n",
        "else                          :\n",
        "   if username  == \"guest\"           :\n",
        "      if   password == (\"guest\")             :\n",
        "           print     (\"Login Berhasil\")\n",
        "           print     (\"Anda Login Sebagai Guest\")\n",
        "      else                                   :\n",
        "           print     (\"Password Salah\")\n",
        "           print     (\"Silahkan coba lagi\")\n",
        "\n",
        "   else                              :\n",
        "        print   (\"User tidak ditemukan\")\n",
        "        print   (\"Silahkan Coba Lagi\")"
      ]
    },
    {
      "cell_type": "markdown",
      "metadata": {
        "id": "mTwlacYLBU2m"
      },
      "source": [
        "#  Latihan Mingguan 1"
      ]
    },
    {
      "cell_type": "code",
      "execution_count": null,
      "metadata": {
        "colab": {
          "base_uri": "https://localhost:8080/"
        },
        "id": "KWNQL-v43Xca",
        "outputId": "e87d0740-601b-4a03-929b-6d8517dc2008"
      },
      "outputs": [
        {
          "name": "stdout",
          "output_type": "stream",
          "text": [
            "Masukkan Tahun : 200\n",
            "Tahun 200 Bukan Tahun Kabisat\n"
          ]
        }
      ],
      "source": [
        "# Program untuk mengecek tahun kabisat\n",
        "\n",
        "tahun         = int(input(\"Masukkan Tahun : \"))\n",
        "\n",
        "if  tahun % 4 == 0  :\n",
        "  if  tahun % 100 == 0  :\n",
        "    if  tahun % 400 == 0  :\n",
        "        print (\"Tahun\", tahun, \"Adalah Tahun Kabisat\")\n",
        "    else                  :\n",
        "        print (\"Tahun\", tahun, \"Bukan Tahun Kabisat\")\n",
        "  else                  :\n",
        "      print (\"Tahun\", tahun, \"Adalah Tahun Kabisat\")\n",
        "else                :\n",
        "    print (\"Tahun\", tahun, \"Bukan Tahun Kabisat\")\n",
        "\n",
        "# Kenapa yang dari google panjang ya? Kenapa ngga % 4 aja?"
      ]
    },
    {
      "cell_type": "code",
      "execution_count": null,
      "metadata": {
        "colab": {
          "base_uri": "https://localhost:8080/"
        },
        "id": "qLbVqHVqFDlD",
        "outputId": "410937f7-90c4-452f-e665-884abfce377e"
      },
      "outputs": [
        {
          "name": "stdout",
          "output_type": "stream",
          "text": [
            "Masukkan Tahun : 840\n",
            "Tahun 840 Adalah Tahun Kabisat\n"
          ]
        }
      ],
      "source": [
        "#  Program untuk mengecek tahun kabisat\n",
        "\n",
        "tahun         = int(input(\"Masukkan Tahun : \"))\n",
        "\n",
        "if  tahun % 4 == 0  :\n",
        "    print (\"Tahun\", tahun, \"Adalah Tahun Kabisat\")\n",
        "else                :\n",
        "    print (\"Tahun\", tahun, \"Bukan Tahun Kabisat\")"
      ]
    },
    {
      "cell_type": "markdown",
      "metadata": {
        "id": "AZGDegyoH8LA"
      },
      "source": [
        "# Latihan Mingguan 2"
      ]
    },
    {
      "cell_type": "code",
      "execution_count": null,
      "metadata": {
        "id": "Do-PwcMlH_nb"
      },
      "outputs": [],
      "source": [
        "#  Program untuk menunjukkan angka terbesar dari 3 angka\n",
        "\n",
        "\n",
        "x    = int(input(\"Masukkan Angka Pertama : \"))\n",
        "y    = int(input(\"Masukkan Angka Kedua   : \"))\n",
        "z    = int(input(\"Masukkan Angka Ketiga  : \"))\n",
        "\n",
        "if    x > y and x > z  :\n",
        "      print (\"Angka terbesar adalah  :\", x)\n",
        "elif  y > x and y > z  :\n",
        "      print (\"Angka terbesar adalah  :\", y)\n",
        "else                   :\n",
        "      print (\"Angka terbesar adalah  :\", z)"
      ]
    },
    {
      "cell_type": "markdown",
      "metadata": {
        "id": "tgNgiYYoK781"
      },
      "source": [
        "# Latihan Mingguan 3"
      ]
    },
    {
      "cell_type": "code",
      "execution_count": 26,
      "metadata": {
        "colab": {
          "base_uri": "https://localhost:8080/"
        },
        "id": "-kPo10ReK6x-",
        "outputId": "9a66a438-92c9-4de7-ebb4-0ec9a4973cb5"
      },
      "outputs": [
        {
          "output_type": "stream",
          "name": "stdout",
          "text": [
            "Total belanja        : 120000\n",
            "Apakah anda member?  : ya\n",
            "Total yang harus dibayar :  114000.0\n"
          ]
        }
      ],
      "source": [
        "#  Program untuk menghitung jumlah yang harus dibayar\n",
        "\n",
        "belanja       = int(input(\"Total belanja        : \"))\n",
        "member        = str(input(\"Apakah anda member?  : \"))\n",
        "\n",
        "if belanja   > 200000             :\n",
        "   diskon      = 4\n",
        "elif belanja > 100000             :\n",
        "   diskon      = 3\n",
        "else                              :\n",
        "   diskon      = 0\n",
        "\n",
        "\n",
        "if member      == (\"Ya\") or (\"ya\") or (\"YA\") or (\"yA\") or (\"Y\") or (\"y\")  :\n",
        "   diskon      += 2\n",
        "else                                                                      :\n",
        "   diskon      += 0\n",
        "\n",
        "\n",
        "total_diskon  = (diskon / 100) * belanja\n",
        "bayar         = belanja - total_diskon\n",
        "\n",
        "print(\"Total yang harus dibayar : \" , bayar)\n"
      ]
    },
    {
      "cell_type": "code",
      "execution_count": 27,
      "metadata": {
        "colab": {
          "base_uri": "https://localhost:8080/"
        },
        "id": "ALMf463MLTj9",
        "outputId": "3c4d21f9-a535-41bb-88ef-8561485172bd"
      },
      "outputs": [
        {
          "output_type": "stream",
          "name": "stdout",
          "text": [
            "Email          : mfikrimgl123@gmail.com\n",
            "Input Username : Bayamaru\n",
            "Input Password : ***************\n",
            "Registrasi berhasil\n"
          ]
        }
      ],
      "source": [
        "# Membuat program untuk membuat user baru\n",
        "\n",
        "email      = str(input(\"Email          : \"))\n",
        "username   = str(input(\"Input Username : \"))\n",
        "password   = str(input(\"Input Password : \"))\n",
        "\n",
        "if not username              :\n",
        "  print(\"Username tidak boleh kosong!\")\n",
        "elif \"@\" not in email        :\n",
        "  print(\"Email anda tidak valid\")\n",
        "elif len(password) < 8       :\n",
        "  print(\"Password harus lebih dari 8 karakter\")\n",
        "else                         :\n",
        "  print(\"Registrasi berhasil\")"
      ]
    }
  ],
  "metadata": {
    "colab": {
      "provenance": [],
      "authorship_tag": "ABX9TyPlYpNKZgDNZPQkK02c+EDF",
      "include_colab_link": true
    },
    "kernelspec": {
      "display_name": "Python 3",
      "name": "python3"
    },
    "language_info": {
      "name": "python"
    }
  },
  "nbformat": 4,
  "nbformat_minor": 0
}